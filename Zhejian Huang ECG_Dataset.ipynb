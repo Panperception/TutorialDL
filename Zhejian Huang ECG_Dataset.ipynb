{
  "cells": [
    {
      "cell_type": "markdown",
      "metadata": {
        "colab_type": "text",
        "id": "view-in-github"
      },
      "source": [
        "<a href=\"https://colab.research.google.com/github/Panperception/TutorialDL/blob/main/Zhejian%20Huang%20ECG_Dataset.ipynb\" target=\"_parent\"><img src=\"https://colab.research.google.com/assets/colab-badge.svg\" alt=\"Open In Colab\"/></a>"
      ]
    },
    {
      "cell_type": "markdown",
      "metadata": {
        "id": "iie0J0eG2lpq"
      },
      "source": [
        "### Test on ECG Data"
      ]
    },
    {
      "cell_type": "markdown",
      "metadata": {
        "id": "pf_FvZEo2q2V"
      },
      "source": [
        "The dataset you will use is based on one from [timeseriesclassification.com](http://www.timeseriesclassification.com/description.php?Dataset=ECG5000).\n",
        "\n",
        "Try to design and train your MLP to classify normal and abnormal ECG samples."
      ]
    },
    {
      "cell_type": "code",
      "execution_count": null,
      "metadata": {
        "id": "bCR8anTz25Wy",
        "vscode": {
          "languageId": "python"
        }
      },
      "outputs": [],
      "source": [
        "import matplotlib.pyplot as plt\n",
        "import numpy as np\n",
        "import pandas as pd\n",
        "import tensorflow as tf\n",
        "import keras\n",
        "\n",
        "from sklearn.metrics import accuracy_score, precision_score, recall_score\n",
        "from sklearn.model_selection import train_test_split\n",
        "from tensorflow.keras import layers, losses\n",
        "from tensorflow.keras.datasets import fashion_mnist\n",
        "from tensorflow.keras.models import Model\n",
        "\n",
        "\n",
        "\n",
        "\n",
        "# Download the dataset\n",
        "dataframe = pd.read_csv('http://storage.googleapis.com/download.tensorflow.org/data/ecg.csv', header=None)\n",
        "raw_data = dataframe.values\n",
        "\n",
        "\n"
      ]
    },
    {
      "cell_type": "code",
      "execution_count": null,
      "metadata": {
        "id": "VSGHfGum4lU1",
        "vscode": {
          "languageId": "python"
        }
      },
      "outputs": [],
      "source": [
        "# The last element contains the labels\n",
        "labels = raw_data[:, -1]\n",
        "\n",
        "# The other data points are the electrocadriogram data\n",
        "data = raw_data[:, 0:-1]\n",
        "\n",
        "train_data, test_data, train_labels, test_labels = train_test_split(data, labels, test_size=0.2, random_state=21)\n",
        "\n",
        "#Normalize to [0, 1]\n",
        "min_val = tf.reduce_min(train_data)\n",
        "max_val = tf.reduce_max(train_data)\n",
        "\n",
        "train_data = (train_data - min_val) / (max_val - min_val)\n",
        "test_data = (test_data - min_val) / (max_val - min_val)\n",
        "\n",
        "train_data = tf.cast(train_data, tf.float32)\n",
        "test_data = tf.cast(test_data, tf.float32)\n",
        "\n",
        "inputside=140\n",
        "hidensize=10\n",
        "classnum=2\n",
        "epochnum=30 ## or 10, 20"
      ]
    },
    {
      "cell_type": "code",
      "execution_count": null,
      "metadata": {
        "id": "Jquy2OgUYUn4",
        "vscode": {
          "languageId": "python"
        }
      },
      "outputs": [],
      "source": []
    },
    {
      "cell_type": "code",
      "execution_count": null,
      "metadata": {
        "id": "7c-EP0j475ze",
        "vscode": {
          "languageId": "python"
        }
      },
      "outputs": [],
      "source": [
        "# plt.grid()\n",
        "# plt.plot(np.arange(140), train_data[100])\n",
        "# plt.show()"
      ]
    },
    {
      "cell_type": "markdown",
      "metadata": {
        "id": "Ezdh8PLL7sjW"
      },
      "source": [
        "# MLP"
      ]
    },
    {
      "cell_type": "code",
      "execution_count": null,
      "metadata": {
        "colab": {
          "base_uri": "https://localhost:8080/"
        },
        "id": "bdnORrGMcI92",
        "outputId": "2f6b489f-dc59-40b5-c5d1-30378efdd745",
        "vscode": {
          "languageId": "python"
        }
      },
      "outputs": [
        {
          "name": "stdout",
          "output_type": "stream",
          "text": [
            "Epoch 1/30\n",
            "125/125 [==============================] - 1s 3ms/step - loss: 0.6846 - accuracy: 0.5809 - val_loss: 0.6853 - val_accuracy: 0.5600\n",
            "Epoch 2/30\n",
            "125/125 [==============================] - 0s 2ms/step - loss: 0.6708 - accuracy: 0.5956 - val_loss: 0.6814 - val_accuracy: 0.5600\n",
            "Epoch 3/30\n",
            "125/125 [==============================] - 0s 2ms/step - loss: 0.6710 - accuracy: 0.5876 - val_loss: 0.6786 - val_accuracy: 0.5600\n",
            "Epoch 4/30\n",
            "125/125 [==============================] - 0s 2ms/step - loss: 0.6671 - accuracy: 0.5907 - val_loss: 0.6752 - val_accuracy: 0.5600\n",
            "Epoch 5/30\n",
            "125/125 [==============================] - 0s 2ms/step - loss: 0.6637 - accuracy: 0.5935 - val_loss: 0.6730 - val_accuracy: 0.5600\n",
            "Epoch 6/30\n",
            "125/125 [==============================] - 0s 2ms/step - loss: 0.6604 - accuracy: 0.5930 - val_loss: 0.6695 - val_accuracy: 0.5600\n",
            "Epoch 7/30\n",
            "125/125 [==============================] - 0s 2ms/step - loss: 0.6565 - accuracy: 0.5933 - val_loss: 0.6656 - val_accuracy: 0.5600\n",
            "Epoch 8/30\n",
            "125/125 [==============================] - 0s 2ms/step - loss: 0.6599 - accuracy: 0.5741 - val_loss: 0.6625 - val_accuracy: 0.5600\n",
            "Epoch 9/30\n",
            "125/125 [==============================] - 0s 2ms/step - loss: 0.6460 - accuracy: 0.5994 - val_loss: 0.6558 - val_accuracy: 0.5600\n",
            "Epoch 10/30\n",
            "125/125 [==============================] - 0s 2ms/step - loss: 0.6428 - accuracy: 0.5954 - val_loss: 0.6505 - val_accuracy: 0.5600\n",
            "Epoch 11/30\n",
            "125/125 [==============================] - 0s 2ms/step - loss: 0.6395 - accuracy: 0.5865 - val_loss: 0.6441 - val_accuracy: 0.5600\n",
            "Epoch 12/30\n",
            "125/125 [==============================] - 0s 2ms/step - loss: 0.6325 - accuracy: 0.5896 - val_loss: 0.6370 - val_accuracy: 0.5600\n",
            "Epoch 13/30\n",
            "125/125 [==============================] - 0s 2ms/step - loss: 0.6214 - accuracy: 0.5992 - val_loss: 0.6280 - val_accuracy: 0.5600\n",
            "Epoch 14/30\n",
            "125/125 [==============================] - 0s 2ms/step - loss: 0.6157 - accuracy: 0.5922 - val_loss: 0.6186 - val_accuracy: 0.5600\n",
            "Epoch 15/30\n",
            "125/125 [==============================] - 0s 2ms/step - loss: 0.6101 - accuracy: 0.5850 - val_loss: 0.6097 - val_accuracy: 0.5600\n",
            "Epoch 16/30\n",
            "125/125 [==============================] - 0s 2ms/step - loss: 0.5969 - accuracy: 0.5919 - val_loss: 0.5973 - val_accuracy: 0.5630\n",
            "Epoch 17/30\n",
            "125/125 [==============================] - 0s 2ms/step - loss: 0.5866 - accuracy: 0.6107 - val_loss: 0.5846 - val_accuracy: 0.6290\n",
            "Epoch 18/30\n",
            "125/125 [==============================] - 0s 2ms/step - loss: 0.5692 - accuracy: 0.6483 - val_loss: 0.5710 - val_accuracy: 0.7000\n",
            "Epoch 19/30\n",
            "125/125 [==============================] - 0s 2ms/step - loss: 0.5620 - accuracy: 0.7407 - val_loss: 0.5564 - val_accuracy: 0.7670\n",
            "Epoch 20/30\n",
            "125/125 [==============================] - 0s 2ms/step - loss: 0.5449 - accuracy: 0.8108 - val_loss: 0.5405 - val_accuracy: 0.8430\n",
            "Epoch 21/30\n",
            "125/125 [==============================] - 0s 2ms/step - loss: 0.5275 - accuracy: 0.8637 - val_loss: 0.5226 - val_accuracy: 0.8990\n",
            "Epoch 22/30\n",
            "125/125 [==============================] - 0s 2ms/step - loss: 0.5050 - accuracy: 0.8939 - val_loss: 0.5046 - val_accuracy: 0.9190\n",
            "Epoch 23/30\n",
            "125/125 [==============================] - 0s 2ms/step - loss: 0.4970 - accuracy: 0.9141 - val_loss: 0.4871 - val_accuracy: 0.9180\n",
            "Epoch 24/30\n",
            "125/125 [==============================] - 0s 2ms/step - loss: 0.4739 - accuracy: 0.9240 - val_loss: 0.4671 - val_accuracy: 0.9340\n",
            "Epoch 25/30\n",
            "125/125 [==============================] - 0s 2ms/step - loss: 0.4595 - accuracy: 0.9273 - val_loss: 0.4484 - val_accuracy: 0.9340\n",
            "Epoch 26/30\n",
            "125/125 [==============================] - 0s 2ms/step - loss: 0.4340 - accuracy: 0.9344 - val_loss: 0.4276 - val_accuracy: 0.9520\n",
            "Epoch 27/30\n",
            "125/125 [==============================] - 0s 2ms/step - loss: 0.4159 - accuracy: 0.9448 - val_loss: 0.4089 - val_accuracy: 0.9520\n",
            "Epoch 28/30\n",
            "125/125 [==============================] - 0s 2ms/step - loss: 0.3998 - accuracy: 0.9434 - val_loss: 0.3904 - val_accuracy: 0.9520\n",
            "Epoch 29/30\n",
            "125/125 [==============================] - 0s 2ms/step - loss: 0.3840 - accuracy: 0.9462 - val_loss: 0.3722 - val_accuracy: 0.9540\n",
            "Epoch 30/30\n",
            "125/125 [==============================] - 0s 2ms/step - loss: 0.3636 - accuracy: 0.9514 - val_loss: 0.3570 - val_accuracy: 0.9520\n"
          ]
        }
      ],
      "source": [
        "\n",
        "\n",
        "mlp_model = keras.Sequential()\n",
        "mlp_model.add(keras.Input(shape=(inputside,)))\n",
        "mlp_model.add(keras.layers.Dense(hidensize, activation='sigmoid', \n",
        "                activity_regularizer=keras.regularizers.l1(10e-5)))\n",
        "mlp_model.add(keras.layers.Dense(classnum, activation='sigmoid'))\n",
        "mlp_model.compile(optimizer='SGD',\n",
        "              loss='categorical_crossentropy',\n",
        "              metrics=['accuracy'])\n",
        "\n",
        "# Convert labels to categorical one-hot encoding\n",
        "train_hot_labels = keras.utils.to_categorical(train_labels, num_classes=classnum)\n",
        "test_hot_labels=keras.utils.to_categorical(test_labels, num_classes=classnum)\n",
        "# Train the model, iterating on the data in batches of 32 samples\n",
        "mlp_history=mlp_model.fit(train_data, train_hot_labels,validation_data=(test_data,test_hot_labels), epochs=epochnum, batch_size=32)"
      ]
    },
    {
      "cell_type": "code",
      "execution_count": null,
      "metadata": {
        "colab": {
          "base_uri": "https://localhost:8080/",
          "height": 362
        },
        "id": "nkr-IBj4l3Z8",
        "outputId": "019a1fc7-38cb-4be4-f8b1-ea258f11aad3",
        "vscode": {
          "languageId": "python"
        }
      },
      "outputs": [
        {
          "name": "stdout",
          "output_type": "stream",
          "text": [
            "F1 Score:   0.9506398311882227\n",
            "Precision:  0.9599520865792164\n",
            "Recall:     0.945698051948052\n",
            "Accuracy:   0.952\n"
          ]
        },
        {
          "data": {
            "image/png": "[encoded data removed]",
            "text/plain": [
              "<Figure size 432x288 with 2 Axes>"
            ]
          },
          "metadata": {
            "needs_background": "light",
            "tags": []
          },
          "output_type": "display_data"
        }
      ],
      "source": [
        "from sklearn.metrics import accuracy_score, f1_score, precision_score, recall_score, classification_report, confusion_matrix\n",
        "import numpy as np\n",
        "\n",
        "# Overall F1 score\n",
        "pred_labels=np.argmax(mlp_model.predict(test_data), axis=1)\n",
        "print(\"F1 Score:  \", f1_score(test_labels, pred_labels, average=\"macro\"))\n",
        "print(\"Precision: \", precision_score(test_labels, pred_labels, average=\"macro\"))\n",
        "print(\"Recall:    \", recall_score(test_labels, pred_labels, average=\"macro\"))\n",
        "print(\"Accuracy:  \", np.mean((test_labels==pred_labels)*1.0))\n",
        "\n",
        "plt.figure()\n",
        "plt.subplot(121)\n",
        "plt.plot(mlp_history.history['loss'])\n",
        "plt.plot(mlp_history.history['val_loss'])\n",
        "\n",
        "plt.title('MLP Model Loss')\n",
        "plt.ylabel('Loss')\n",
        "plt.xlabel('Epoch')\n",
        "plt.legend(['Train', 'Test'])\n",
        "\n",
        "plt.subplot(122)\n",
        "\n",
        "plt.plot(mlp_history.history['accuracy'])\n",
        "plt.plot(mlp_history.history['val_accuracy'])\n",
        "\n",
        "plt.title('MLP Model Accuracy')\n",
        "plt.ylabel('Accuracy')\n",
        "plt.xlabel('Epoch')\n",
        "plt.legend(['Train', 'Test'])\n",
        "plt.show()\n",
        "plt.close()"
      ]
    },
    {
      "cell_type": "code",
      "execution_count": null,
      "metadata": {
        "id": "DuqVLrZ15CVf",
        "vscode": {
          "languageId": "python"
        }
      },
      "outputs": [],
      "source": []
    },
    {
      "cell_type": "markdown",
      "metadata": {
        "id": "UMT0rvhZROko"
      },
      "source": [
        "More about the dataset from the link,\n",
        "\"The original dataset for \"ECG5000\" is a 20-hour long ECG downloaded from Physionet. The name is BIDMC Congestive Heart Failure Database(chfdb) and it is record \"chf07\". It was originally published in \"Goldberger AL, Amaral LAN, Glass L, Hausdorff JM, Ivanov PCh, Mark RG, Mietus JE, Moody GB, Peng C-K, Stanley HE. PhysioBank, PhysioToolkit, and PhysioNet: Components of a New Research Resource for Complex Physiologic Signals. Circulation 101(23)\". The data was pre-processed in two steps: (1) extract each heartbeat, (2) make each heartbeat equal length using interpolation. This dataset was originally used in paper \"A general framework for never-ending learning from time series streams\", DAMI 29(6). After that, 5,000 heartbeats were randomly selected. The patient has severe congestive heart failure and the class values were obtained by automated annotation\"\n",
        "\n",
        "See [link dataset](http://www.timeseriesclassification.com/description.php?Dataset=ECG5000) "
      ]
    },
    {
      "cell_type": "markdown",
      "metadata": {
        "id": "JXiLVGV18IDH"
      },
      "source": [
        "# AE"
      ]
    },
    {
      "cell_type": "code",
      "execution_count": null,
      "metadata": {
        "id": "g9-7YiFNJ8tz",
        "vscode": {
          "languageId": "python"
        }
      },
      "outputs": [],
      "source": []
    },
    {
      "cell_type": "code",
      "execution_count": null,
      "metadata": {
        "id": "OnZLE7b8LA6q",
        "vscode": {
          "languageId": "python"
        }
      },
      "outputs": [],
      "source": [
        "# Claim models\n",
        "import keras\n",
        "import matplotlib.pyplot as plt\n",
        "\n",
        "# The input size/image\n",
        "input = keras.Input(shape=(inputside,))\n",
        "# The size of latent space\n",
        "encoding_dim = 16\n",
        "## Add a simple encode layer\n",
        "# Rectified Linear Unit\n",
        "encoded = keras.layers.Dense(encoding_dim, activation='sigmoid')(input)\n",
        "# Add decode layer\n",
        "decoded = keras.layers.Dense(inputside, activation='sigmoid')(encoded)\n",
        "\n",
        "# Claim autoencoder model\n",
        "model_autoencoder = keras.Model(input, decoded)\n",
        "\n",
        "# Claim a separate encoder model\n",
        "model_encoder = keras.Model(input, encoded)\n",
        "\n",
        "# Claim a separate decoder model\n",
        "decoder_input = keras.Input(shape=(encoding_dim,))\n",
        "# Retrieve the last layer of the autoencoder model\n",
        "decoder_layer = model_autoencoder.layers[-1]\n",
        "# Create the decoder model\n",
        "model_decoder = keras.Model(decoder_input, decoder_layer(decoder_input))\n",
        "\n",
        "\n",
        "# input = Input(shape=(28*28,))\n",
        "# encoded = keras.layers.Dense(encoding_dim, activation='sigmoid')(input)\n",
        "# decoded = keras.layers.Dense(784, activation='sigmoid')(encoded)\n",
        "\n",
        "# model_decoder = keras.Model(input=input, output=decoded)\n"
      ]
    },
    {
      "cell_type": "code",
      "execution_count": null,
      "metadata": {
        "colab": {
          "base_uri": "https://localhost:8080/",
          "height": 951
        },
        "id": "ppMFmmX3Nsqi",
        "outputId": "dd644163-a54d-4985-ce7b-7c82e7dada69",
        "vscode": {
          "languageId": "python"
        }
      },
      "outputs": [
        {
          "name": "stdout",
          "output_type": "stream",
          "text": [
            "Epoch 1/20\n",
            "16/16 [==============================] - 1s 27ms/step - loss: 0.6971 - val_loss: 0.6920\n",
            "Epoch 2/20\n",
            "16/16 [==============================] - 0s 6ms/step - loss: 0.6912 - val_loss: 0.6894\n",
            "Epoch 3/20\n",
            "16/16 [==============================] - 0s 5ms/step - loss: 0.6889 - val_loss: 0.6875\n",
            "Epoch 4/20\n",
            "16/16 [==============================] - 0s 5ms/step - loss: 0.6871 - val_loss: 0.6860\n",
            "Epoch 5/20\n",
            "16/16 [==============================] - 0s 5ms/step - loss: 0.6856 - val_loss: 0.6849\n",
            "Epoch 6/20\n",
            "16/16 [==============================] - 0s 5ms/step - loss: 0.6847 - val_loss: 0.6843\n",
            "Epoch 7/20\n",
            "16/16 [==============================] - 0s 6ms/step - loss: 0.6841 - val_loss: 0.6840\n",
            "Epoch 8/20\n",
            "16/16 [==============================] - 0s 5ms/step - loss: 0.6839 - val_loss: 0.6839\n",
            "Epoch 9/20\n",
            "16/16 [==============================] - 0s 6ms/step - loss: 0.6838 - val_loss: 0.6839\n",
            "Epoch 10/20\n",
            "16/16 [==============================] - 0s 5ms/step - loss: 0.6837 - val_loss: 0.6839\n",
            "Epoch 11/20\n",
            "16/16 [==============================] - 0s 5ms/step - loss: 0.6837 - val_loss: 0.6838\n",
            "Epoch 12/20\n",
            "16/16 [==============================] - 0s 5ms/step - loss: 0.6837 - val_loss: 0.6838\n",
            "Epoch 13/20\n",
            "16/16 [==============================] - 0s 5ms/step - loss: 0.6837 - val_loss: 0.6837\n",
            "Epoch 14/20\n",
            "16/16 [==============================] - 0s 6ms/step - loss: 0.6836 - val_loss: 0.6836\n",
            "Epoch 15/20\n",
            "16/16 [==============================] - 0s 5ms/step - loss: 0.6834 - val_loss: 0.6835\n",
            "Epoch 16/20\n",
            "16/16 [==============================] - 0s 6ms/step - loss: 0.6834 - val_loss: 0.6834\n",
            "Epoch 17/20\n",
            "16/16 [==============================] - 0s 5ms/step - loss: 0.6833 - val_loss: 0.6833\n",
            "Epoch 18/20\n",
            "16/16 [==============================] - 0s 6ms/step - loss: 0.6831 - val_loss: 0.6831\n",
            "Epoch 19/20\n",
            "16/16 [==============================] - 0s 5ms/step - loss: 0.6830 - val_loss: 0.6830\n",
            "Epoch 20/20\n",
            "16/16 [==============================] - 0s 6ms/step - loss: 0.6829 - val_loss: 0.6828\n"
          ]
        },
        {
          "data": {
            "image/png": "[encoded data removed]",
            "text/plain": [
              "<Figure size 432x288 with 1 Axes>"
            ]
          },
          "metadata": {
            "needs_background": "light",
            "tags": []
          },
          "output_type": "display_data"
        }
      ],
      "source": [
        "# Training\n",
        "# Claim compile property for training\n",
        "model_autoencoder.compile(optimizer='adam', loss='binary_crossentropy')\n",
        "\n",
        "# Train the autoencoder model\n",
        "hist=model_autoencoder.fit(train_data, train_data,\n",
        "                epochs=20,\n",
        "                batch_size=256,\n",
        "                shuffle=True,\n",
        "                validation_data=(test_data, test_data))\n",
        "\n",
        "plt.plot(hist.history[\"loss\"]);\n",
        "plt.xlabel('Epochs');\n",
        "plt.ylabel('Training Error');"
      ]
    },
    {
      "cell_type": "code",
      "execution_count": null,
      "metadata": {
        "colab": {
          "base_uri": "https://localhost:8080/"
        },
        "id": "wn-8kI7QjEU5",
        "outputId": "441fccbc-4bec-4bbd-c6d7-d8a318a44b95",
        "vscode": {
          "languageId": "python"
        }
      },
      "outputs": [
        {
          "name": "stdout",
          "output_type": "stream",
          "text": [
            "Epoch 1/30\n",
            "125/125 [==============================] - 1s 3ms/step - loss: 0.6741 - accuracy: 0.6042 - val_loss: 0.5938 - val_accuracy: 0.6310\n",
            "Epoch 2/30\n",
            "125/125 [==============================] - 0s 2ms/step - loss: 0.5802 - accuracy: 0.6755 - val_loss: 0.5657 - val_accuracy: 0.6470\n",
            "Epoch 3/30\n",
            "125/125 [==============================] - 0s 1ms/step - loss: 0.5485 - accuracy: 0.7331 - val_loss: 0.5338 - val_accuracy: 0.8880\n",
            "Epoch 4/30\n",
            "125/125 [==============================] - 0s 2ms/step - loss: 0.5225 - accuracy: 0.8849 - val_loss: 0.5056 - val_accuracy: 0.9270\n",
            "Epoch 5/30\n",
            "125/125 [==============================] - 0s 2ms/step - loss: 0.4973 - accuracy: 0.9104 - val_loss: 0.4804 - val_accuracy: 0.9260\n",
            "Epoch 6/30\n",
            "125/125 [==============================] - 0s 2ms/step - loss: 0.4689 - accuracy: 0.9286 - val_loss: 0.4545 - val_accuracy: 0.9420\n",
            "Epoch 7/30\n",
            "125/125 [==============================] - 0s 2ms/step - loss: 0.4470 - accuracy: 0.9305 - val_loss: 0.4318 - val_accuracy: 0.9410\n",
            "Epoch 8/30\n",
            "125/125 [==============================] - 0s 2ms/step - loss: 0.4191 - accuracy: 0.9404 - val_loss: 0.4123 - val_accuracy: 0.9370\n",
            "Epoch 9/30\n",
            "125/125 [==============================] - 0s 2ms/step - loss: 0.3994 - accuracy: 0.9340 - val_loss: 0.3868 - val_accuracy: 0.9480\n",
            "Epoch 10/30\n",
            "125/125 [==============================] - 0s 2ms/step - loss: 0.3819 - accuracy: 0.9421 - val_loss: 0.3692 - val_accuracy: 0.9440\n",
            "Epoch 11/30\n",
            "125/125 [==============================] - 0s 2ms/step - loss: 0.3615 - accuracy: 0.9435 - val_loss: 0.3487 - val_accuracy: 0.9490\n",
            "Epoch 12/30\n",
            "125/125 [==============================] - 0s 2ms/step - loss: 0.3541 - accuracy: 0.9350 - val_loss: 0.3317 - val_accuracy: 0.9500\n",
            "Epoch 13/30\n",
            "125/125 [==============================] - 0s 2ms/step - loss: 0.3335 - accuracy: 0.9412 - val_loss: 0.3163 - val_accuracy: 0.9490\n",
            "Epoch 14/30\n",
            "125/125 [==============================] - 0s 2ms/step - loss: 0.3126 - accuracy: 0.9477 - val_loss: 0.3015 - val_accuracy: 0.9500\n",
            "Epoch 15/30\n",
            "125/125 [==============================] - 0s 2ms/step - loss: 0.3031 - accuracy: 0.9431 - val_loss: 0.2882 - val_accuracy: 0.9500\n",
            "Epoch 16/30\n",
            "125/125 [==============================] - 0s 2ms/step - loss: 0.2819 - accuracy: 0.9504 - val_loss: 0.2761 - val_accuracy: 0.9500\n",
            "Epoch 17/30\n",
            "125/125 [==============================] - 0s 2ms/step - loss: 0.2803 - accuracy: 0.9445 - val_loss: 0.2664 - val_accuracy: 0.9500\n",
            "Epoch 18/30\n",
            "125/125 [==============================] - 0s 2ms/step - loss: 0.2623 - accuracy: 0.9493 - val_loss: 0.2551 - val_accuracy: 0.9500\n",
            "Epoch 19/30\n",
            "125/125 [==============================] - 0s 2ms/step - loss: 0.2507 - accuracy: 0.9520 - val_loss: 0.2454 - val_accuracy: 0.9490\n",
            "Epoch 20/30\n",
            "125/125 [==============================] - 0s 2ms/step - loss: 0.2469 - accuracy: 0.9483 - val_loss: 0.2383 - val_accuracy: 0.9510\n",
            "Epoch 21/30\n",
            "125/125 [==============================] - 0s 2ms/step - loss: 0.2363 - accuracy: 0.9471 - val_loss: 0.2307 - val_accuracy: 0.9510\n",
            "Epoch 22/30\n",
            "125/125 [==============================] - 0s 2ms/step - loss: 0.2316 - accuracy: 0.9506 - val_loss: 0.2230 - val_accuracy: 0.9500\n",
            "Epoch 23/30\n",
            "125/125 [==============================] - 0s 2ms/step - loss: 0.2274 - accuracy: 0.9486 - val_loss: 0.2160 - val_accuracy: 0.9510\n",
            "Epoch 24/30\n",
            "125/125 [==============================] - 0s 2ms/step - loss: 0.2233 - accuracy: 0.9466 - val_loss: 0.2094 - val_accuracy: 0.9500\n",
            "Epoch 25/30\n",
            "125/125 [==============================] - 0s 2ms/step - loss: 0.2173 - accuracy: 0.9474 - val_loss: 0.2037 - val_accuracy: 0.9500\n",
            "Epoch 26/30\n",
            "125/125 [==============================] - 0s 2ms/step - loss: 0.2017 - accuracy: 0.9520 - val_loss: 0.1990 - val_accuracy: 0.9500\n",
            "Epoch 27/30\n",
            "125/125 [==============================] - 0s 3ms/step - loss: 0.1949 - accuracy: 0.9552 - val_loss: 0.1937 - val_accuracy: 0.9510\n",
            "Epoch 28/30\n",
            "125/125 [==============================] - 0s 2ms/step - loss: 0.2029 - accuracy: 0.9467 - val_loss: 0.1899 - val_accuracy: 0.9510\n",
            "Epoch 29/30\n",
            "125/125 [==============================] - 0s 2ms/step - loss: 0.1941 - accuracy: 0.9467 - val_loss: 0.1848 - val_accuracy: 0.9520\n",
            "Epoch 30/30\n",
            "125/125 [==============================] - 0s 2ms/step - loss: 0.1903 - accuracy: 0.9476 - val_loss: 0.1815 - val_accuracy: 0.9520\n"
          ]
        }
      ],
      "source": [
        "AE_model = keras.Sequential()\n",
        "AE_model.add(model_encoder.layers[0])\n",
        "AE_model.add(model_encoder.layers[1])\n",
        "AE_model.add(keras.layers.Dense(classnum, activation='sigmoid'))\n",
        "AE_model.compile(optimizer='SGD',\n",
        "              loss='categorical_crossentropy',\n",
        "              metrics=['accuracy'])\n",
        "\n",
        "# Convert labels to categorical one-hot encoding\n",
        "train_hot_labels = keras.utils.to_categorical(train_labels, num_classes=classnum)\n",
        "test_hot_labels=keras.utils.to_categorical(test_labels, num_classes=classnum)\n",
        "\n",
        "# Train the model, iterating on the data in batches of 32 samples\n",
        "AE_history=AE_model.fit(train_data, train_hot_labels,validation_data=(test_data,test_hot_labels), epochs=epochnum, batch_size=32)\n"
      ]
    },
    {
      "cell_type": "code",
      "execution_count": null,
      "metadata": {
        "colab": {
          "base_uri": "https://localhost:8080/",
          "height": 362
        },
        "id": "F6cOtFUo5iDM",
        "outputId": "697c3593-9ede-4077-8cf1-c4d61401799c",
        "vscode": {
          "languageId": "python"
        }
      },
      "outputs": [
        {
          "name": "stdout",
          "output_type": "stream",
          "text": [
            "F1 Score:   0.9509545471265495\n",
            "Precision:  0.9551450099751034\n",
            "Recall:     0.9481331168831169\n",
            "Accuracy:   0.952\n"
          ]
        },
        {
          "data": {
            "image/png": "[encoded data removed]",
            "text/plain": [
              "<Figure size 432x288 with 2 Axes>"
            ]
          },
          "metadata": {
            "needs_background": "light",
            "tags": []
          },
          "output_type": "display_data"
        }
      ],
      "source": [
        "\n",
        "# Overall F1 score\n",
        "pred_labels=np.argmax(AE_model.predict(test_data), axis=1)\n",
        "print(\"F1 Score:  \", f1_score(test_labels, pred_labels, average=\"macro\"))\n",
        "print(\"Precision: \", precision_score(test_labels, pred_labels, average=\"macro\"))\n",
        "print(\"Recall:    \", recall_score(test_labels, pred_labels, average=\"macro\"))\n",
        "print(\"Accuracy:  \", np.mean((test_labels==pred_labels)*1.0))\n",
        "\n",
        "plt.figure()\n",
        "plt.subplot(121)\n",
        "plt.plot(AE_history.history['loss'])\n",
        "plt.plot(AE_history.history['val_loss'])\n",
        "\n",
        "plt.title('AE Model Loss')\n",
        "plt.ylabel('Loss')\n",
        "plt.xlabel('Epoch')\n",
        "plt.legend(['Train', 'Test'])\n",
        "\n",
        "plt.subplot(122)\n",
        "\n",
        "plt.plot(AE_history.history['accuracy'])\n",
        "plt.plot(AE_history.history['val_accuracy'])\n",
        "\n",
        "plt.title('AE Model Accuracy')\n",
        "plt.ylabel('Accuracy')\n",
        "plt.xlabel('Epoch')\n",
        "plt.legend(['Train', 'Test'])\n",
        "plt.show()\n",
        "plt.close()"
      ]
    },
    {
      "cell_type": "markdown",
      "metadata": {
        "id": "8-yva9FKADZV"
      },
      "source": [
        "#CNN"
      ]
    },
    {
      "cell_type": "code",
      "execution_count": null,
      "metadata": {
        "colab": {
          "base_uri": "https://localhost:8080/"
        },
        "id": "PW_jGrgijve7",
        "outputId": "b944c215-b0b7-42bd-b19c-66650266df3b",
        "vscode": {
          "languageId": "python"
        }
      },
      "outputs": [
        {
          "name": "stdout",
          "output_type": "stream",
          "text": [
            "140\n"
          ]
        }
      ],
      "source": [
        "print(inputside)"
      ]
    },
    {
      "cell_type": "code",
      "execution_count": null,
      "metadata": {
        "colab": {
          "base_uri": "https://localhost:8080/"
        },
        "id": "lh9fTV15AFu9",
        "outputId": "d3579b05-f508-424e-8560-afdd214c4ffe",
        "vscode": {
          "languageId": "python"
        }
      },
      "outputs": [
        {
          "name": "stdout",
          "output_type": "stream",
          "text": [
            "Epoch 1/30\n",
            "WARNING:tensorflow:Model was constructed with shape (None, 14, 10, 1) for input KerasTensor(type_spec=TensorSpec(shape=(None, 14, 10, 1), dtype=tf.float32, name='conv2d_10_input'), name='conv2d_10_input', description=\"created by layer 'conv2d_10_input'\"), but it was called on an input with incompatible shape (None, 10, 14, 1).\n",
            "WARNING:tensorflow:Model was constructed with shape (None, 14, 10, 1) for input KerasTensor(type_spec=TensorSpec(shape=(None, 14, 10, 1), dtype=tf.float32, name='conv2d_10_input'), name='conv2d_10_input', description=\"created by layer 'conv2d_10_input'\"), but it was called on an input with incompatible shape (None, 10, 14, 1).\n",
            "121/125 [============================>.] - ETA: 0s - loss: 0.6409 - accuracy: 0.6397WARNING:tensorflow:Model was constructed with shape (None, 14, 10, 1) for input KerasTensor(type_spec=TensorSpec(shape=(None, 14, 10, 1), dtype=tf.float32, name='conv2d_10_input'), name='conv2d_10_input', description=\"created by layer 'conv2d_10_input'\"), but it was called on an input with incompatible shape (None, 10, 14, 1).\n",
            "125/125 [==============================] - 1s 7ms/step - loss: 0.6399 - accuracy: 0.6409 - val_loss: 0.5568 - val_accuracy: 0.7600\n",
            "Epoch 2/30\n",
            "125/125 [==============================] - 1s 5ms/step - loss: 0.5177 - accuracy: 0.8471 - val_loss: 0.4163 - val_accuracy: 0.9310\n",
            "Epoch 3/30\n",
            "125/125 [==============================] - 1s 5ms/step - loss: 0.3750 - accuracy: 0.9412 - val_loss: 0.2828 - val_accuracy: 0.9540\n",
            "Epoch 4/30\n",
            "125/125 [==============================] - 1s 5ms/step - loss: 0.2632 - accuracy: 0.9513 - val_loss: 0.2071 - val_accuracy: 0.9570\n",
            "Epoch 5/30\n",
            "125/125 [==============================] - 1s 5ms/step - loss: 0.2033 - accuracy: 0.9491 - val_loss: 0.1679 - val_accuracy: 0.9580\n",
            "Epoch 6/30\n",
            "125/125 [==============================] - 1s 5ms/step - loss: 0.1711 - accuracy: 0.9508 - val_loss: 0.1468 - val_accuracy: 0.9580\n",
            "Epoch 7/30\n",
            "125/125 [==============================] - 1s 5ms/step - loss: 0.1478 - accuracy: 0.9555 - val_loss: 0.1283 - val_accuracy: 0.9590\n",
            "Epoch 8/30\n",
            "125/125 [==============================] - 1s 5ms/step - loss: 0.1417 - accuracy: 0.9561 - val_loss: 0.1178 - val_accuracy: 0.9590\n",
            "Epoch 9/30\n",
            "125/125 [==============================] - 1s 5ms/step - loss: 0.1392 - accuracy: 0.9480 - val_loss: 0.1095 - val_accuracy: 0.9620\n",
            "Epoch 10/30\n",
            "125/125 [==============================] - 1s 5ms/step - loss: 0.1202 - accuracy: 0.9567 - val_loss: 0.1026 - val_accuracy: 0.9590\n",
            "Epoch 11/30\n",
            "125/125 [==============================] - 1s 5ms/step - loss: 0.1145 - accuracy: 0.9570 - val_loss: 0.0990 - val_accuracy: 0.9620\n",
            "Epoch 12/30\n",
            "125/125 [==============================] - 1s 5ms/step - loss: 0.1084 - accuracy: 0.9568 - val_loss: 0.0928 - val_accuracy: 0.9630\n",
            "Epoch 13/30\n",
            "125/125 [==============================] - 1s 5ms/step - loss: 0.0952 - accuracy: 0.9628 - val_loss: 0.0884 - val_accuracy: 0.9620\n",
            "Epoch 14/30\n",
            "125/125 [==============================] - 1s 5ms/step - loss: 0.0978 - accuracy: 0.9620 - val_loss: 0.0851 - val_accuracy: 0.9640\n",
            "Epoch 15/30\n",
            "125/125 [==============================] - 1s 5ms/step - loss: 0.0930 - accuracy: 0.9614 - val_loss: 0.0831 - val_accuracy: 0.9640\n",
            "Epoch 16/30\n",
            "125/125 [==============================] - 1s 5ms/step - loss: 0.0905 - accuracy: 0.9625 - val_loss: 0.0805 - val_accuracy: 0.9650\n",
            "Epoch 17/30\n",
            "125/125 [==============================] - 1s 5ms/step - loss: 0.0828 - accuracy: 0.9645 - val_loss: 0.0776 - val_accuracy: 0.9670\n",
            "Epoch 18/30\n",
            "125/125 [==============================] - 1s 5ms/step - loss: 0.0862 - accuracy: 0.9625 - val_loss: 0.0749 - val_accuracy: 0.9680\n",
            "Epoch 19/30\n",
            "125/125 [==============================] - 1s 5ms/step - loss: 0.0865 - accuracy: 0.9651 - val_loss: 0.0729 - val_accuracy: 0.9680\n",
            "Epoch 20/30\n",
            "125/125 [==============================] - 1s 5ms/step - loss: 0.0902 - accuracy: 0.9661 - val_loss: 0.0713 - val_accuracy: 0.9720\n",
            "Epoch 21/30\n",
            "125/125 [==============================] - 1s 5ms/step - loss: 0.0871 - accuracy: 0.9654 - val_loss: 0.0701 - val_accuracy: 0.9730\n",
            "Epoch 22/30\n",
            "125/125 [==============================] - 1s 5ms/step - loss: 0.0867 - accuracy: 0.9670 - val_loss: 0.0692 - val_accuracy: 0.9730\n",
            "Epoch 23/30\n",
            "125/125 [==============================] - 1s 5ms/step - loss: 0.0750 - accuracy: 0.9705 - val_loss: 0.0672 - val_accuracy: 0.9770\n",
            "Epoch 24/30\n",
            "125/125 [==============================] - 1s 5ms/step - loss: 0.0812 - accuracy: 0.9691 - val_loss: 0.0660 - val_accuracy: 0.9770\n",
            "Epoch 25/30\n",
            "125/125 [==============================] - 1s 5ms/step - loss: 0.0851 - accuracy: 0.9679 - val_loss: 0.0645 - val_accuracy: 0.9740\n",
            "Epoch 26/30\n",
            "125/125 [==============================] - 1s 5ms/step - loss: 0.0798 - accuracy: 0.9712 - val_loss: 0.0637 - val_accuracy: 0.9770\n",
            "Epoch 27/30\n",
            "125/125 [==============================] - 1s 5ms/step - loss: 0.0723 - accuracy: 0.9770 - val_loss: 0.0626 - val_accuracy: 0.9760\n",
            "Epoch 28/30\n",
            "125/125 [==============================] - 1s 5ms/step - loss: 0.0686 - accuracy: 0.9761 - val_loss: 0.0615 - val_accuracy: 0.9780\n",
            "Epoch 29/30\n",
            "125/125 [==============================] - 1s 5ms/step - loss: 0.0709 - accuracy: 0.9778 - val_loss: 0.0614 - val_accuracy: 0.9770\n",
            "Epoch 30/30\n",
            "125/125 [==============================] - 1s 5ms/step - loss: 0.0655 - accuracy: 0.9819 - val_loss: 0.0598 - val_accuracy: 0.9780\n"
          ]
        }
      ],
      "source": [
        "train_data= np.array(train_data)\n",
        "test_data= np.array(test_data)\n",
        "\n",
        "train_data_reshape= train_data.reshape(len(train_data), 10, 14, 1)\n",
        "test_data_reshape= test_data.reshape(len(test_data), 10, 14, 1)\n",
        "\n",
        "\n",
        "#Deep CNN model setting\n",
        "CNN= keras.Sequential()\n",
        "\n",
        "CNN.add(keras.layers.Conv2D(10, kernel_size= 5, activation='tanh', input_shape= (14, 10, 1), padding= 'same'))\n",
        "#CNN.add(Conv2D(100, kernel_size= 5, activation='tanh'))\n",
        "CNN.add(keras.layers.Flatten())\n",
        "CNN.add(keras.layers.Dense(classnum, activation= 'sigmoid'))\n",
        "\n",
        "#Training and evaluating\n",
        "CNN.compile(optimizer= 'SGD',\n",
        "            loss= 'categorical_crossentropy',\n",
        "            metrics=['accuracy'])\n",
        "\n",
        "# Convert labels to categorical one-hot encoding\n",
        "train_hot_labels = keras.utils.to_categorical(train_labels, num_classes=classnum)\n",
        "test_hot_labels=keras.utils.to_categorical(test_labels, num_classes=classnum)\n",
        "\n",
        "CNN_history= CNN.fit(train_data_reshape, train_hot_labels, validation_data= (test_data_reshape, test_hot_labels), epochs= epochnum, batch_size=32)\n"
      ]
    },
    {
      "cell_type": "code",
      "execution_count": null,
      "metadata": {
        "colab": {
          "base_uri": "https://localhost:8080/",
          "height": 399
        },
        "id": "q0s-AfkVVkeX",
        "outputId": "85890682-f70a-49d0-e12c-057fd177fcda",
        "vscode": {
          "languageId": "python"
        }
      },
      "outputs": [
        {
          "name": "stdout",
          "output_type": "stream",
          "text": [
            "WARNING:tensorflow:Model was constructed with shape (None, 14, 10, 1) for input KerasTensor(type_spec=TensorSpec(shape=(None, 14, 10, 1), dtype=tf.float32, name='conv2d_10_input'), name='conv2d_10_input', description=\"created by layer 'conv2d_10_input'\"), but it was called on an input with incompatible shape (None, 10, 14, 1).\n",
            "F1 Score:   0.9776450935044771\n",
            "Precision:  0.9784159189721711\n",
            "Recall:     0.976948051948052\n",
            "Accuracy:   0.978\n"
          ]
        },
        {
          "data": {
            "image/png": "[encoded data removed]",
            "text/plain": [
              "<Figure size 432x288 with 2 Axes>"
            ]
          },
          "metadata": {
            "needs_background": "light",
            "tags": []
          },
          "output_type": "display_data"
        }
      ],
      "source": [
        "pred_labels=np.argmax(CNN.predict(test_data_reshape), axis=1)\n",
        "print(\"F1 Score:  \", f1_score(test_labels, pred_labels, average=\"macro\"))\n",
        "print(\"Precision: \", precision_score(test_labels, pred_labels, average=\"macro\"))\n",
        "print(\"Recall:    \", recall_score(test_labels, pred_labels, average=\"macro\"))\n",
        "print(\"Accuracy:  \", np.mean((test_labels==pred_labels)*1.0))\n",
        "\n",
        "plt.figure()\n",
        "plt.subplot(121)\n",
        "plt.plot(CNN_history.history['loss'])\n",
        "plt.plot(CNN_history.history['val_loss'])\n",
        "\n",
        "plt.title('CNN Model Loss')\n",
        "plt.ylabel('Loss')\n",
        "plt.xlabel('Epoch')\n",
        "plt.legend(['Train', 'Test'])\n",
        "plt.subplot(122)\n",
        "\n",
        "plt.plot(CNN_history.history['accuracy'])\n",
        "plt.plot(CNN_history.history['val_accuracy'])\n",
        "\n",
        "plt.title('CNN Model Accuracy')\n",
        "plt.ylabel('Accuracy')\n",
        "plt.xlabel('Epoch')\n",
        "plt.legend(['Train', 'Test'])\n",
        "plt.show()\n",
        "plt.close()"
      ]
    },
    {
      "cell_type": "markdown",
      "metadata": {
        "id": "oZyANVpNs3_n"
      },
      "source": [
        "#Hyperparameter Turning in MLP\n"
      ]
    },
    {
      "cell_type": "code",
      "execution_count": null,
      "metadata": {
        "colab": {
          "base_uri": "https://localhost:8080/"
        },
        "id": "95b2VNPXtH-u",
        "outputId": "f9e3c495-a35d-44d5-bb26-5c98a2a7658e",
        "vscode": {
          "languageId": "python"
        }
      },
      "outputs": [
        {
          "name": "stdout",
          "output_type": "stream",
          "text": [
            "Epoch 1/30\n",
            "125/125 [==============================] - 1s 5ms/step - loss: 0.6787 - accuracy: 0.5502 - val_loss: 0.6303 - val_accuracy: 0.5600\n",
            "Epoch 2/30\n",
            "125/125 [==============================] - 0s 2ms/step - loss: 0.5955 - accuracy: 0.6675 - val_loss: 0.5164 - val_accuracy: 0.9130\n",
            "Epoch 3/30\n",
            "125/125 [==============================] - 0s 2ms/step - loss: 0.4837 - accuracy: 0.9017 - val_loss: 0.3933 - val_accuracy: 0.9510\n",
            "Epoch 4/30\n",
            "125/125 [==============================] - 0s 2ms/step - loss: 0.3613 - accuracy: 0.9488 - val_loss: 0.2961 - val_accuracy: 0.9550\n",
            "Epoch 5/30\n",
            "125/125 [==============================] - 0s 2ms/step - loss: 0.2776 - accuracy: 0.9483 - val_loss: 0.2324 - val_accuracy: 0.9570\n",
            "Epoch 6/30\n",
            "125/125 [==============================] - 0s 2ms/step - loss: 0.2186 - accuracy: 0.9537 - val_loss: 0.1884 - val_accuracy: 0.9580\n",
            "Epoch 7/30\n",
            "125/125 [==============================] - 0s 2ms/step - loss: 0.1782 - accuracy: 0.9583 - val_loss: 0.1620 - val_accuracy: 0.9580\n",
            "Epoch 8/30\n",
            "125/125 [==============================] - 0s 2ms/step - loss: 0.1518 - accuracy: 0.9640 - val_loss: 0.1431 - val_accuracy: 0.9590\n",
            "Epoch 9/30\n",
            "125/125 [==============================] - 0s 2ms/step - loss: 0.1404 - accuracy: 0.9586 - val_loss: 0.1279 - val_accuracy: 0.9610\n",
            "Epoch 10/30\n",
            "125/125 [==============================] - 0s 2ms/step - loss: 0.1313 - accuracy: 0.9606 - val_loss: 0.1171 - val_accuracy: 0.9630\n",
            "Epoch 11/30\n",
            "125/125 [==============================] - 0s 2ms/step - loss: 0.1134 - accuracy: 0.9674 - val_loss: 0.1072 - val_accuracy: 0.9660\n",
            "Epoch 12/30\n",
            "125/125 [==============================] - 0s 2ms/step - loss: 0.1133 - accuracy: 0.9639 - val_loss: 0.0997 - val_accuracy: 0.9680\n",
            "Epoch 13/30\n",
            "125/125 [==============================] - 0s 2ms/step - loss: 0.0978 - accuracy: 0.9713 - val_loss: 0.0934 - val_accuracy: 0.9710\n",
            "Epoch 14/30\n",
            "125/125 [==============================] - 0s 2ms/step - loss: 0.0946 - accuracy: 0.9676 - val_loss: 0.0884 - val_accuracy: 0.9740\n",
            "Epoch 15/30\n",
            "125/125 [==============================] - 0s 2ms/step - loss: 0.0929 - accuracy: 0.9690 - val_loss: 0.0835 - val_accuracy: 0.9740\n",
            "Epoch 16/30\n",
            "125/125 [==============================] - 0s 2ms/step - loss: 0.0855 - accuracy: 0.9738 - val_loss: 0.0823 - val_accuracy: 0.9770\n",
            "Epoch 17/30\n",
            "125/125 [==============================] - 0s 2ms/step - loss: 0.0862 - accuracy: 0.9689 - val_loss: 0.0773 - val_accuracy: 0.9760\n",
            "Epoch 18/30\n",
            "125/125 [==============================] - 0s 2ms/step - loss: 0.0759 - accuracy: 0.9764 - val_loss: 0.0754 - val_accuracy: 0.9780\n",
            "Epoch 19/30\n",
            "125/125 [==============================] - 0s 2ms/step - loss: 0.0785 - accuracy: 0.9742 - val_loss: 0.0796 - val_accuracy: 0.9750\n",
            "Epoch 20/30\n",
            "125/125 [==============================] - 0s 2ms/step - loss: 0.0716 - accuracy: 0.9712 - val_loss: 0.0677 - val_accuracy: 0.9780\n",
            "Epoch 21/30\n",
            "125/125 [==============================] - 0s 2ms/step - loss: 0.0645 - accuracy: 0.9803 - val_loss: 0.0657 - val_accuracy: 0.9780\n",
            "Epoch 22/30\n",
            "125/125 [==============================] - 0s 2ms/step - loss: 0.0706 - accuracy: 0.9752 - val_loss: 0.0648 - val_accuracy: 0.9770\n",
            "Epoch 23/30\n",
            "125/125 [==============================] - 0s 2ms/step - loss: 0.0706 - accuracy: 0.9749 - val_loss: 0.0624 - val_accuracy: 0.9800\n",
            "Epoch 24/30\n",
            "125/125 [==============================] - 0s 2ms/step - loss: 0.0606 - accuracy: 0.9797 - val_loss: 0.0620 - val_accuracy: 0.9810\n",
            "Epoch 25/30\n",
            "125/125 [==============================] - 0s 2ms/step - loss: 0.0694 - accuracy: 0.9797 - val_loss: 0.0599 - val_accuracy: 0.9820\n",
            "Epoch 26/30\n",
            "125/125 [==============================] - 0s 2ms/step - loss: 0.0653 - accuracy: 0.9817 - val_loss: 0.0609 - val_accuracy: 0.9800\n",
            "Epoch 27/30\n",
            "125/125 [==============================] - 0s 2ms/step - loss: 0.0629 - accuracy: 0.9812 - val_loss: 0.0578 - val_accuracy: 0.9820\n",
            "Epoch 28/30\n",
            "125/125 [==============================] - 0s 2ms/step - loss: 0.0676 - accuracy: 0.9787 - val_loss: 0.0572 - val_accuracy: 0.9820\n",
            "Epoch 29/30\n",
            "125/125 [==============================] - 0s 2ms/step - loss: 0.0622 - accuracy: 0.9809 - val_loss: 0.0568 - val_accuracy: 0.9800\n",
            "Epoch 30/30\n",
            "125/125 [==============================] - 0s 2ms/step - loss: 0.0556 - accuracy: 0.9839 - val_loss: 0.0556 - val_accuracy: 0.9820\n"
          ]
        }
      ],
      "source": [
        "# optimizer = Adam\n",
        "mlp_model_adam = keras.Sequential()\n",
        "mlp_model_adam.add(keras.Input(shape=(inputside,)))\n",
        "mlp_model_adam.add(keras.layers.Dense(hidensize, activation='sigmoid', \n",
        "                activity_regularizer=keras.regularizers.l1(10e-5)))\n",
        "mlp_model_adam.add(keras.layers.Dense(classnum, activation='sigmoid'))\n",
        "mlp_model_adam.compile(optimizer='Adam',\n",
        "              loss='categorical_crossentropy',\n",
        "              metrics=['accuracy'])\n",
        "\n",
        "# Convert labels to categorical one-hot encoding\n",
        "train_hot_labels = keras.utils.to_categorical(train_labels, num_classes=classnum)\n",
        "test_hot_labels=keras.utils.to_categorical(test_labels, num_classes=classnum)\n",
        "# Train the model, iterating on the data in batches of 32 samples\n",
        "mlp_history_adam=mlp_model_adam.fit(train_data, train_hot_labels,validation_data=(test_data,test_hot_labels), epochs=epochnum, batch_size=32)"
      ]
    },
    {
      "cell_type": "code",
      "execution_count": null,
      "metadata": {
        "colab": {
          "base_uri": "https://localhost:8080/",
          "height": 295
        },
        "id": "lDzhck_8to9H",
        "outputId": "5a61addd-c52f-485e-a601-b3ac9a9112b9",
        "vscode": {
          "languageId": "python"
        }
      },
      "outputs": [
        {
          "data": {
            "image/png": "[encoded data removed]",
            "text/plain": [
              "<Figure size 432x288 with 2 Axes>"
            ]
          },
          "metadata": {
            "needs_background": "light",
            "tags": []
          },
          "output_type": "display_data"
        }
      ],
      "source": [
        "plt.figure()\n",
        "plt.subplot(121)\n",
        "plt.plot(mlp_history.history['accuracy'])\n",
        "plt.plot(mlp_history.history['val_accuracy'])\n",
        "\n",
        "\n",
        "plt.title('SGD')\n",
        "plt.ylabel('Accuracy')\n",
        "plt.xlabel('Epoch')\n",
        "plt.legend(['Train', 'Test'])\n",
        "\n",
        "plt.subplot(122)\n",
        "\n",
        "plt.plot(mlp_history_adam.history['accuracy'])\n",
        "plt.plot(mlp_history_adam.history['val_accuracy'])\n",
        "\n",
        "plt.title('Adam')\n",
        "plt.ylabel('Accuracy')\n",
        "plt.xlabel('Epoch')\n",
        "plt.legend(['Train', 'Test'])\n",
        "plt.show()\n",
        "plt.close()"
      ]
    },
    {
      "cell_type": "code",
      "execution_count": null,
      "metadata": {
        "colab": {
          "base_uri": "https://localhost:8080/"
        },
        "id": "nBKApmsltkxX",
        "outputId": "24a98369-69a9-4c6c-8e19-e2b70d727822",
        "vscode": {
          "languageId": "python"
        }
      },
      "outputs": [
        {
          "name": "stdout",
          "output_type": "stream",
          "text": [
            "Epoch 1/30\n",
            "32/32 [==============================] - 1s 8ms/step - loss: 0.9737 - accuracy: 0.4092 - val_loss: 0.7351 - val_accuracy: 0.4400\n",
            "Epoch 2/30\n",
            "32/32 [==============================] - 0s 3ms/step - loss: 0.7288 - accuracy: 0.4004 - val_loss: 0.6908 - val_accuracy: 0.5600\n",
            "Epoch 3/30\n",
            "32/32 [==============================] - 0s 3ms/step - loss: 0.6861 - accuracy: 0.5830 - val_loss: 0.6854 - val_accuracy: 0.5600\n",
            "Epoch 4/30\n",
            "32/32 [==============================] - 0s 3ms/step - loss: 0.6746 - accuracy: 0.6016 - val_loss: 0.6850 - val_accuracy: 0.5600\n",
            "Epoch 5/30\n",
            "32/32 [==============================] - 0s 3ms/step - loss: 0.6754 - accuracy: 0.5895 - val_loss: 0.6842 - val_accuracy: 0.5600\n",
            "Epoch 6/30\n",
            "32/32 [==============================] - 0s 2ms/step - loss: 0.6756 - accuracy: 0.5847 - val_loss: 0.6835 - val_accuracy: 0.5600\n",
            "Epoch 7/30\n",
            "32/32 [==============================] - 0s 2ms/step - loss: 0.6744 - accuracy: 0.5855 - val_loss: 0.6822 - val_accuracy: 0.5600\n",
            "Epoch 8/30\n",
            "32/32 [==============================] - 0s 3ms/step - loss: 0.6692 - accuracy: 0.5965 - val_loss: 0.6808 - val_accuracy: 0.5600\n",
            "Epoch 9/30\n",
            "32/32 [==============================] - 0s 2ms/step - loss: 0.6727 - accuracy: 0.5827 - val_loss: 0.6797 - val_accuracy: 0.5600\n",
            "Epoch 10/30\n",
            "32/32 [==============================] - 0s 3ms/step - loss: 0.6649 - accuracy: 0.6022 - val_loss: 0.6781 - val_accuracy: 0.5600\n",
            "Epoch 11/30\n",
            "32/32 [==============================] - 0s 2ms/step - loss: 0.6685 - accuracy: 0.5888 - val_loss: 0.6773 - val_accuracy: 0.5600\n",
            "Epoch 12/30\n",
            "32/32 [==============================] - 0s 3ms/step - loss: 0.6639 - accuracy: 0.5986 - val_loss: 0.6759 - val_accuracy: 0.5600\n",
            "Epoch 13/30\n",
            "32/32 [==============================] - 0s 3ms/step - loss: 0.6650 - accuracy: 0.5915 - val_loss: 0.6747 - val_accuracy: 0.5600\n",
            "Epoch 14/30\n",
            "32/32 [==============================] - 0s 3ms/step - loss: 0.6687 - accuracy: 0.5774 - val_loss: 0.6737 - val_accuracy: 0.5600\n",
            "Epoch 15/30\n",
            "32/32 [==============================] - 0s 3ms/step - loss: 0.6666 - accuracy: 0.5798 - val_loss: 0.6727 - val_accuracy: 0.5600\n",
            "Epoch 16/30\n",
            "32/32 [==============================] - 0s 3ms/step - loss: 0.6621 - accuracy: 0.5893 - val_loss: 0.6718 - val_accuracy: 0.5600\n",
            "Epoch 17/30\n",
            "32/32 [==============================] - 0s 8ms/step - loss: 0.6612 - accuracy: 0.5887 - val_loss: 0.6700 - val_accuracy: 0.5600\n",
            "Epoch 18/30\n",
            "32/32 [==============================] - 0s 3ms/step - loss: 0.6560 - accuracy: 0.5992 - val_loss: 0.6684 - val_accuracy: 0.5600\n",
            "Epoch 19/30\n",
            "32/32 [==============================] - 0s 3ms/step - loss: 0.6607 - accuracy: 0.5820 - val_loss: 0.6668 - val_accuracy: 0.5600\n",
            "Epoch 20/30\n",
            "32/32 [==============================] - 0s 3ms/step - loss: 0.6575 - accuracy: 0.5880 - val_loss: 0.6654 - val_accuracy: 0.5600\n",
            "Epoch 21/30\n",
            "32/32 [==============================] - 0s 3ms/step - loss: 0.6563 - accuracy: 0.5880 - val_loss: 0.6639 - val_accuracy: 0.5600\n",
            "Epoch 22/30\n",
            "32/32 [==============================] - 0s 3ms/step - loss: 0.6519 - accuracy: 0.5960 - val_loss: 0.6624 - val_accuracy: 0.5600\n",
            "Epoch 23/30\n",
            "32/32 [==============================] - 0s 3ms/step - loss: 0.6538 - accuracy: 0.5858 - val_loss: 0.6611 - val_accuracy: 0.5600\n",
            "Epoch 24/30\n",
            "32/32 [==============================] - 0s 3ms/step - loss: 0.6497 - accuracy: 0.5931 - val_loss: 0.6587 - val_accuracy: 0.5600\n",
            "Epoch 25/30\n",
            "32/32 [==============================] - 0s 3ms/step - loss: 0.6456 - accuracy: 0.5991 - val_loss: 0.6571 - val_accuracy: 0.5600\n",
            "Epoch 26/30\n",
            "32/32 [==============================] - 0s 3ms/step - loss: 0.6488 - accuracy: 0.5851 - val_loss: 0.6559 - val_accuracy: 0.5600\n",
            "Epoch 27/30\n",
            "32/32 [==============================] - 0s 3ms/step - loss: 0.6453 - accuracy: 0.5904 - val_loss: 0.6539 - val_accuracy: 0.5600\n",
            "Epoch 28/30\n",
            "32/32 [==============================] - 0s 3ms/step - loss: 0.6461 - accuracy: 0.5833 - val_loss: 0.6520 - val_accuracy: 0.5600\n",
            "Epoch 29/30\n",
            "32/32 [==============================] - 0s 3ms/step - loss: 0.6427 - accuracy: 0.5881 - val_loss: 0.6499 - val_accuracy: 0.5600\n",
            "Epoch 30/30\n",
            "32/32 [==============================] - 0s 3ms/step - loss: 0.6402 - accuracy: 0.5876 - val_loss: 0.6479 - val_accuracy: 0.5600\n"
          ]
        }
      ],
      "source": [
        "# batch size of 128\n",
        "mlp_model_128 = keras.Sequential()\n",
        "mlp_model_128.add(keras.Input(shape=(inputside,)))\n",
        "mlp_model_128.add(keras.layers.Dense(hidensize, activation='sigmoid', \n",
        "                activity_regularizer=keras.regularizers.l1(10e-5)))\n",
        "mlp_model_128.add(keras.layers.Dense(classnum, activation='sigmoid'))\n",
        "mlp_model_128.compile(optimizer='SGD',\n",
        "              loss='categorical_crossentropy',\n",
        "              metrics=['accuracy'])\n",
        "\n",
        "# Convert labels to categorical one-hot encoding\n",
        "train_hot_labels = keras.utils.to_categorical(train_labels, num_classes=classnum)\n",
        "test_hot_labels=keras.utils.to_categorical(test_labels, num_classes=classnum)\n",
        "# Train the model, iterating on the data in batches of 32 samples\n",
        "mlp_history_128=mlp_model_128.fit(train_data, train_hot_labels,validation_data=(test_data,test_hot_labels), epochs=epochnum, batch_size=128)"
      ]
    },
    {
      "cell_type": "code",
      "execution_count": null,
      "metadata": {
        "colab": {
          "base_uri": "https://localhost:8080/",
          "height": 295
        },
        "id": "rco2GCd6vhDf",
        "outputId": "04119f04-3f1d-4ef7-a856-726171a42bb6",
        "vscode": {
          "languageId": "python"
        }
      },
      "outputs": [
        {
          "data": {
            "image/png": "[encoded data removed]",
            "text/plain": [
              "<Figure size 432x288 with 2 Axes>"
            ]
          },
          "metadata": {
            "needs_background": "light",
            "tags": []
          },
          "output_type": "display_data"
        }
      ],
      "source": [
        "plt.figure()\n",
        "plt.subplot(121)\n",
        "plt.plot(mlp_history.history['accuracy'])\n",
        "plt.plot(mlp_history.history['val_accuracy'])\n",
        "\n",
        "\n",
        "plt.title('batch size of 32')\n",
        "plt.ylabel('Accuracy')\n",
        "plt.xlabel('Epoch')\n",
        "plt.legend(['Train', 'Test'])\n",
        "\n",
        "plt.subplot(122)\n",
        "\n",
        "plt.plot(mlp_history_128.history['accuracy'])\n",
        "plt.plot(mlp_history_128.history['val_accuracy'])\n",
        "\n",
        "plt.title('batch size of 128')\n",
        "plt.ylabel('Accuracy')\n",
        "plt.xlabel('Epoch')\n",
        "plt.legend(['Train', 'Test'])\n",
        "plt.show()\n",
        "plt.close()"
      ]
    },
    {
      "cell_type": "markdown",
      "metadata": {
        "id": "gIcFv7mcwT0_"
      },
      "source": [
        "#Hyperparameter Turning in AE\n",
        "\n"
      ]
    },
    {
      "cell_type": "code",
      "execution_count": null,
      "metadata": {
        "colab": {
          "base_uri": "https://localhost:8080/"
        },
        "id": "Irp9s6LhwWOO",
        "outputId": "391d3946-ec19-4dd3-fd06-0bbc89fc00cd",
        "vscode": {
          "languageId": "python"
        }
      },
      "outputs": [
        {
          "name": "stdout",
          "output_type": "stream",
          "text": [
            "Epoch 1/30\n",
            "125/125 [==============================] - 1s 3ms/step - loss: 0.6902 - accuracy: 0.5670 - val_loss: 0.5126 - val_accuracy: 0.9080\n",
            "Epoch 2/30\n",
            "125/125 [==============================] - 0s 2ms/step - loss: 0.4665 - accuracy: 0.9056 - val_loss: 0.3652 - val_accuracy: 0.9540\n",
            "Epoch 3/30\n",
            "125/125 [==============================] - 0s 2ms/step - loss: 0.3334 - accuracy: 0.9498 - val_loss: 0.2636 - val_accuracy: 0.9560\n",
            "Epoch 4/30\n",
            "125/125 [==============================] - 0s 2ms/step - loss: 0.2454 - accuracy: 0.9501 - val_loss: 0.2013 - val_accuracy: 0.9590\n",
            "Epoch 5/30\n",
            "125/125 [==============================] - 0s 2ms/step - loss: 0.1832 - accuracy: 0.9605 - val_loss: 0.1622 - val_accuracy: 0.9610\n",
            "Epoch 6/30\n",
            "125/125 [==============================] - 0s 2ms/step - loss: 0.1509 - accuracy: 0.9606 - val_loss: 0.1373 - val_accuracy: 0.9600\n",
            "Epoch 7/30\n",
            "125/125 [==============================] - 0s 2ms/step - loss: 0.1316 - accuracy: 0.9617 - val_loss: 0.1212 - val_accuracy: 0.9610\n",
            "Epoch 8/30\n",
            "125/125 [==============================] - 0s 2ms/step - loss: 0.1246 - accuracy: 0.9602 - val_loss: 0.1092 - val_accuracy: 0.9650\n",
            "Epoch 9/30\n",
            "125/125 [==============================] - 0s 2ms/step - loss: 0.1157 - accuracy: 0.9632 - val_loss: 0.1002 - val_accuracy: 0.9670\n",
            "Epoch 10/30\n",
            "125/125 [==============================] - 0s 2ms/step - loss: 0.0965 - accuracy: 0.9712 - val_loss: 0.0919 - val_accuracy: 0.9690\n",
            "Epoch 11/30\n",
            "125/125 [==============================] - 0s 2ms/step - loss: 0.0955 - accuracy: 0.9705 - val_loss: 0.0902 - val_accuracy: 0.9690\n",
            "Epoch 12/30\n",
            "125/125 [==============================] - 0s 2ms/step - loss: 0.0816 - accuracy: 0.9717 - val_loss: 0.0893 - val_accuracy: 0.9740\n",
            "Epoch 13/30\n",
            "125/125 [==============================] - 0s 2ms/step - loss: 0.0840 - accuracy: 0.9677 - val_loss: 0.0831 - val_accuracy: 0.9750\n",
            "Epoch 14/30\n",
            "125/125 [==============================] - 0s 2ms/step - loss: 0.0779 - accuracy: 0.9772 - val_loss: 0.0874 - val_accuracy: 0.9760\n",
            "Epoch 15/30\n",
            "125/125 [==============================] - 0s 2ms/step - loss: 0.0783 - accuracy: 0.9742 - val_loss: 0.0706 - val_accuracy: 0.9760\n",
            "Epoch 16/30\n",
            "125/125 [==============================] - 0s 2ms/step - loss: 0.0668 - accuracy: 0.9759 - val_loss: 0.0663 - val_accuracy: 0.9760\n",
            "Epoch 17/30\n",
            "125/125 [==============================] - 0s 2ms/step - loss: 0.0698 - accuracy: 0.9778 - val_loss: 0.0639 - val_accuracy: 0.9780\n",
            "Epoch 18/30\n",
            "125/125 [==============================] - 0s 2ms/step - loss: 0.0699 - accuracy: 0.9769 - val_loss: 0.0655 - val_accuracy: 0.9770\n",
            "Epoch 19/30\n",
            "125/125 [==============================] - 0s 2ms/step - loss: 0.0692 - accuracy: 0.9790 - val_loss: 0.0612 - val_accuracy: 0.9790\n",
            "Epoch 20/30\n",
            "125/125 [==============================] - 0s 2ms/step - loss: 0.0583 - accuracy: 0.9823 - val_loss: 0.0588 - val_accuracy: 0.9800\n",
            "Epoch 21/30\n",
            "125/125 [==============================] - 0s 2ms/step - loss: 0.0607 - accuracy: 0.9787 - val_loss: 0.0574 - val_accuracy: 0.9820\n",
            "Epoch 22/30\n",
            "125/125 [==============================] - 0s 2ms/step - loss: 0.0597 - accuracy: 0.9798 - val_loss: 0.0563 - val_accuracy: 0.9820\n",
            "Epoch 23/30\n",
            "125/125 [==============================] - 0s 2ms/step - loss: 0.0549 - accuracy: 0.9825 - val_loss: 0.0554 - val_accuracy: 0.9820\n",
            "Epoch 24/30\n",
            "125/125 [==============================] - 0s 2ms/step - loss: 0.0594 - accuracy: 0.9819 - val_loss: 0.0566 - val_accuracy: 0.9810\n",
            "Epoch 25/30\n",
            "125/125 [==============================] - 0s 2ms/step - loss: 0.0577 - accuracy: 0.9828 - val_loss: 0.0536 - val_accuracy: 0.9830\n",
            "Epoch 26/30\n",
            "125/125 [==============================] - 0s 2ms/step - loss: 0.0686 - accuracy: 0.9799 - val_loss: 0.0533 - val_accuracy: 0.9830\n",
            "Epoch 27/30\n",
            "125/125 [==============================] - 0s 2ms/step - loss: 0.0566 - accuracy: 0.9845 - val_loss: 0.0527 - val_accuracy: 0.9810\n",
            "Epoch 28/30\n",
            "125/125 [==============================] - 0s 2ms/step - loss: 0.0559 - accuracy: 0.9844 - val_loss: 0.0527 - val_accuracy: 0.9840\n",
            "Epoch 29/30\n",
            "125/125 [==============================] - 0s 2ms/step - loss: 0.0544 - accuracy: 0.9860 - val_loss: 0.0511 - val_accuracy: 0.9830\n",
            "Epoch 30/30\n",
            "125/125 [==============================] - 0s 2ms/step - loss: 0.0499 - accuracy: 0.9849 - val_loss: 0.0509 - val_accuracy: 0.9850\n"
          ]
        }
      ],
      "source": [
        "# optimizer = Adam\n",
        "\n",
        "AE_model_adam = keras.Sequential()\n",
        "AE_model_adam.add(model_encoder.layers[0])\n",
        "AE_model_adam.add(model_encoder.layers[1])\n",
        "AE_model_adam.add(keras.layers.Dense(classnum, activation='sigmoid'))\n",
        "AE_model_adam.compile(optimizer='Adam',\n",
        "              loss='categorical_crossentropy',\n",
        "              metrics=['accuracy'])\n",
        "\n",
        "# Convert labels to categorical one-hot encoding\n",
        "train_hot_labels = keras.utils.to_categorical(train_labels, num_classes=classnum)\n",
        "test_hot_labels=keras.utils.to_categorical(test_labels, num_classes=classnum)\n",
        "\n",
        "# Train the model, iterating on the data in batches of 32 samples\n",
        "AE_history_adam=AE_model_adam.fit(train_data, train_hot_labels,validation_data=(test_data,test_hot_labels), epochs=epochnum, batch_size=32)\n"
      ]
    },
    {
      "cell_type": "code",
      "execution_count": null,
      "metadata": {
        "colab": {
          "base_uri": "https://localhost:8080/",
          "height": 295
        },
        "id": "4EPzfuQzw1UQ",
        "outputId": "a4b16113-b2e1-47e7-9910-302cf354d73a",
        "vscode": {
          "languageId": "python"
        }
      },
      "outputs": [
        {
          "data": {
            "image/png": "[encoded data removed]",
            "text/plain": [
              "<Figure size 432x288 with 2 Axes>"
            ]
          },
          "metadata": {
            "needs_background": "light",
            "tags": []
          },
          "output_type": "display_data"
        }
      ],
      "source": [
        "plt.figure()\n",
        "plt.subplot(121)\n",
        "plt.plot(AE_history.history['accuracy'])\n",
        "plt.plot(AE_history.history['val_accuracy'])\n",
        "\n",
        "\n",
        "plt.title('SGD')\n",
        "plt.ylabel('Accuracy')\n",
        "plt.xlabel('Epoch')\n",
        "plt.legend(['Train', 'Test'])\n",
        "\n",
        "plt.subplot(122)\n",
        "\n",
        "plt.plot(AE_history_adam.history['accuracy'])\n",
        "plt.plot(AE_history_adam.history['val_accuracy'])\n",
        "\n",
        "plt.title('Adam')\n",
        "plt.ylabel('Accuracy')\n",
        "plt.xlabel('Epoch')\n",
        "plt.legend(['Train', 'Test'])\n",
        "plt.show()\n",
        "plt.close()"
      ]
    },
    {
      "cell_type": "code",
      "execution_count": null,
      "metadata": {
        "colab": {
          "base_uri": "https://localhost:8080/"
        },
        "id": "vPCtfbZwxglW",
        "outputId": "6b8f77fd-ca50-4b63-cdda-bbaf96b14249",
        "vscode": {
          "languageId": "python"
        }
      },
      "outputs": [
        {
          "name": "stdout",
          "output_type": "stream",
          "text": [
            "Epoch 1/30\n",
            "32/32 [==============================] - 1s 14ms/step - loss: 0.4766 - accuracy: 0.7108 - val_loss: 0.4311 - val_accuracy: 0.9280\n",
            "Epoch 2/30\n",
            "32/32 [==============================] - 0s 3ms/step - loss: 0.4093 - accuracy: 0.9476 - val_loss: 0.3805 - val_accuracy: 0.9610\n",
            "Epoch 3/30\n",
            "32/32 [==============================] - 0s 2ms/step - loss: 0.3643 - accuracy: 0.9667 - val_loss: 0.3412 - val_accuracy: 0.9720\n",
            "Epoch 4/30\n",
            "32/32 [==============================] - 0s 2ms/step - loss: 0.3318 - accuracy: 0.9717 - val_loss: 0.3099 - val_accuracy: 0.9750\n",
            "Epoch 5/30\n",
            "32/32 [==============================] - 0s 2ms/step - loss: 0.2978 - accuracy: 0.9731 - val_loss: 0.2841 - val_accuracy: 0.9780\n",
            "Epoch 6/30\n",
            "32/32 [==============================] - 0s 3ms/step - loss: 0.2783 - accuracy: 0.9724 - val_loss: 0.2623 - val_accuracy: 0.9790\n",
            "Epoch 7/30\n",
            "32/32 [==============================] - 0s 2ms/step - loss: 0.2545 - accuracy: 0.9770 - val_loss: 0.2440 - val_accuracy: 0.9800\n",
            "Epoch 8/30\n",
            "32/32 [==============================] - 0s 3ms/step - loss: 0.2409 - accuracy: 0.9768 - val_loss: 0.2283 - val_accuracy: 0.9800\n",
            "Epoch 9/30\n",
            "32/32 [==============================] - 0s 2ms/step - loss: 0.2246 - accuracy: 0.9791 - val_loss: 0.2149 - val_accuracy: 0.9800\n",
            "Epoch 10/30\n",
            "32/32 [==============================] - 0s 3ms/step - loss: 0.2145 - accuracy: 0.9790 - val_loss: 0.2031 - val_accuracy: 0.9800\n",
            "Epoch 11/30\n",
            "32/32 [==============================] - 0s 2ms/step - loss: 0.2008 - accuracy: 0.9777 - val_loss: 0.1929 - val_accuracy: 0.9800\n",
            "Epoch 12/30\n",
            "32/32 [==============================] - 0s 3ms/step - loss: 0.1942 - accuracy: 0.9772 - val_loss: 0.1838 - val_accuracy: 0.9800\n",
            "Epoch 13/30\n",
            "32/32 [==============================] - 0s 2ms/step - loss: 0.1858 - accuracy: 0.9805 - val_loss: 0.1758 - val_accuracy: 0.9810\n",
            "Epoch 14/30\n",
            "32/32 [==============================] - 0s 2ms/step - loss: 0.1728 - accuracy: 0.9805 - val_loss: 0.1686 - val_accuracy: 0.9810\n",
            "Epoch 15/30\n",
            "32/32 [==============================] - 0s 3ms/step - loss: 0.1646 - accuracy: 0.9815 - val_loss: 0.1621 - val_accuracy: 0.9800\n",
            "Epoch 16/30\n",
            "32/32 [==============================] - 0s 3ms/step - loss: 0.1577 - accuracy: 0.9828 - val_loss: 0.1561 - val_accuracy: 0.9820\n",
            "Epoch 17/30\n",
            "32/32 [==============================] - 0s 2ms/step - loss: 0.1626 - accuracy: 0.9757 - val_loss: 0.1508 - val_accuracy: 0.9820\n",
            "Epoch 18/30\n",
            "32/32 [==============================] - 0s 2ms/step - loss: 0.1494 - accuracy: 0.9804 - val_loss: 0.1460 - val_accuracy: 0.9820\n",
            "Epoch 19/30\n",
            "32/32 [==============================] - 0s 2ms/step - loss: 0.1487 - accuracy: 0.9778 - val_loss: 0.1415 - val_accuracy: 0.9820\n",
            "Epoch 20/30\n",
            "32/32 [==============================] - 0s 3ms/step - loss: 0.1485 - accuracy: 0.9755 - val_loss: 0.1375 - val_accuracy: 0.9820\n",
            "Epoch 21/30\n",
            "32/32 [==============================] - 0s 3ms/step - loss: 0.1388 - accuracy: 0.9825 - val_loss: 0.1338 - val_accuracy: 0.9820\n",
            "Epoch 22/30\n",
            "32/32 [==============================] - 0s 2ms/step - loss: 0.1355 - accuracy: 0.9787 - val_loss: 0.1303 - val_accuracy: 0.9820\n",
            "Epoch 23/30\n",
            "32/32 [==============================] - 0s 3ms/step - loss: 0.1315 - accuracy: 0.9798 - val_loss: 0.1271 - val_accuracy: 0.9830\n",
            "Epoch 24/30\n",
            "32/32 [==============================] - 0s 3ms/step - loss: 0.1306 - accuracy: 0.9770 - val_loss: 0.1242 - val_accuracy: 0.9830\n",
            "Epoch 25/30\n",
            "32/32 [==============================] - 0s 3ms/step - loss: 0.1243 - accuracy: 0.9797 - val_loss: 0.1213 - val_accuracy: 0.9830\n",
            "Epoch 26/30\n",
            "32/32 [==============================] - 0s 3ms/step - loss: 0.1251 - accuracy: 0.9787 - val_loss: 0.1187 - val_accuracy: 0.9840\n",
            "Epoch 27/30\n",
            "32/32 [==============================] - 0s 3ms/step - loss: 0.1182 - accuracy: 0.9803 - val_loss: 0.1163 - val_accuracy: 0.9840\n",
            "Epoch 28/30\n",
            "32/32 [==============================] - 0s 3ms/step - loss: 0.1177 - accuracy: 0.9805 - val_loss: 0.1140 - val_accuracy: 0.9840\n",
            "Epoch 29/30\n",
            "32/32 [==============================] - 0s 2ms/step - loss: 0.1125 - accuracy: 0.9821 - val_loss: 0.1118 - val_accuracy: 0.9840\n",
            "Epoch 30/30\n",
            "32/32 [==============================] - 0s 2ms/step - loss: 0.1142 - accuracy: 0.9816 - val_loss: 0.1098 - val_accuracy: 0.9840\n"
          ]
        }
      ],
      "source": [
        "# batch size of 128\n",
        "\n",
        "AE_model_128 = keras.Sequential()\n",
        "AE_model_128.add(model_encoder.layers[0])\n",
        "AE_model_128.add(model_encoder.layers[1])\n",
        "AE_model_128.add(keras.layers.Dense(classnum, activation='sigmoid'))\n",
        "AE_model_128.compile(optimizer='SGD',\n",
        "              loss='categorical_crossentropy',\n",
        "              metrics=['accuracy'])\n",
        "\n",
        "# Convert labels to categorical one-hot encoding\n",
        "train_hot_labels = keras.utils.to_categorical(train_labels, num_classes=classnum)\n",
        "test_hot_labels=keras.utils.to_categorical(test_labels, num_classes=classnum)\n",
        "\n",
        "# Train the model, iterating on the data in batches of 32 samples\n",
        "AE_history_128=AE_model_128.fit(train_data, train_hot_labels,validation_data=(test_data,test_hot_labels), epochs=epochnum, batch_size=128)\n"
      ]
    },
    {
      "cell_type": "code",
      "execution_count": null,
      "metadata": {
        "colab": {
          "base_uri": "https://localhost:8080/",
          "height": 295
        },
        "id": "aldYwlWoxrQa",
        "outputId": "439160b3-0205-4144-885e-fa0b452131ff",
        "vscode": {
          "languageId": "python"
        }
      },
      "outputs": [
        {
          "data": {
            "image/png": "[encoded data removed]",
            "text/plain": [
              "<Figure size 432x288 with 2 Axes>"
            ]
          },
          "metadata": {
            "needs_background": "light",
            "tags": []
          },
          "output_type": "display_data"
        }
      ],
      "source": [
        "plt.figure()\n",
        "plt.subplot(121)\n",
        "plt.plot(AE_history.history['accuracy'])\n",
        "plt.plot(AE_history.history['val_accuracy'])\n",
        "\n",
        "\n",
        "plt.title('batch size of 32')\n",
        "plt.ylabel('Accuracy')\n",
        "plt.xlabel('Epoch')\n",
        "plt.legend(['Train', 'Test'])\n",
        "\n",
        "plt.subplot(122)\n",
        "\n",
        "plt.plot(AE_history_128.history['accuracy'])\n",
        "plt.plot(AE_history_128.history['val_accuracy'])\n",
        "\n",
        "plt.title('batch size of 128')\n",
        "plt.ylabel('Accuracy')\n",
        "plt.xlabel('Epoch')\n",
        "plt.legend(['Train', 'Test'])\n",
        "plt.show()\n",
        "plt.close()"
      ]
    },
    {
      "cell_type": "markdown",
      "metadata": {
        "id": "Y-BFGmSbkA50"
      },
      "source": [
        "# Compare"
      ]
    },
    {
      "cell_type": "code",
      "execution_count": null,
      "metadata": {
        "colab": {
          "base_uri": "https://localhost:8080/",
          "height": 295
        },
        "id": "mDsC996FkDG-",
        "outputId": "91f508d1-c438-4fea-8614-d00d40c66ef9",
        "vscode": {
          "languageId": "python"
        }
      },
      "outputs": [
        {
          "data": {
            "image/png": "[encoded data removed]",
            "text/plain": [
              "<Figure size 432x288 with 1 Axes>"
            ]
          },
          "metadata": {
            "needs_background": "light",
            "tags": []
          },
          "output_type": "display_data"
        }
      ],
      "source": [
        "plt.figure()\n",
        "\n",
        "plt.plot(mlp_history.history['val_accuracy'])\n",
        "plt.plot(AE_history.history['val_accuracy'])\n",
        "plt.plot(CNN_history.history['val_accuracy'])\n",
        "AE_history.history['val_accuracy']\n",
        "\n",
        "plt.title('Model Accuracy in test data')\n",
        "plt.ylabel('Accuracy')\n",
        "plt.xlabel('Epoch')\n",
        "plt.legend(['MLP', 'AE','CNN'])\n",
        "plt.show()\n",
        "plt.close()"
      ]
    }
  ],
  "metadata": {
    "colab": {
      "collapsed_sections": [],
      "history_visible": true,
      "include_colab_link": true,
      "name": "ECG Dataset.ipynb",
      "provenance": [],
      "toc_visible": true
    },
    "kernelspec": {
      "display_name": "Python 3",
      "name": "python3"
    }
  },
  "nbformat": 4,
  "nbformat_minor": 0
}
